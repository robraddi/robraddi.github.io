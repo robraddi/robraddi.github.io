{
 "cells": [
  {
   "cell_type": "markdown",
   "metadata": {
    "slideshow": {
     "slide_type": "slide"
    }
   },
   "source": [
    "# Modeling Active Particles\n",
    "# Reviewing: Reentrant phase behavior in active colloids with attraction\n",
    "\n",
    "# by Rob Raddi, Somaiyeh, Ning"
   ]
  },
  {
   "cell_type": "markdown",
   "metadata": {
    "slideshow": {
     "slide_type": "slide"
    }
   },
   "source": [
    "## Outline\n",
    "\n",
    "\n",
    "### I - Discuss the main Ideas from **Reentrant phase behavior in active colloids with attraction**\n",
    "\n",
    "### II - Steps\n",
    "\n",
    "##### - Create a basic 2-D LJ liquid simulation using velocity-Verlet algorithm and compare with Lammps\n",
    "\n",
    "### III. Prospective steps:\n",
    "\n",
    "##### - Modify the 2-D LJ liquid simulation to match the paper.\n",
    "    \n",
    "##### - Does this model give us the full story? \n",
    "    \n",
    "\n",
    "### IV. - Conclusion\n",
    "\n",
    "\n"
   ]
  },
  {
   "cell_type": "markdown",
   "metadata": {
    "slideshow": {
     "slide_type": "slide"
    }
   },
   "source": [
    "## Why?\n",
    "\n",
    "#### Active particles\n",
    "##### - Study active particles a new hot topic in liquids.\n",
    "##### - Active fluids generally contain self-propelled particles that interact, individually endergonic, but as a collection generate large scale motion. [1]\n",
    "\n",
    "#### At Low Reynolds Number: Self-propulsion (examples)\n",
    "##### - Self-propelled colloids, bacteria, cells, algae and other micro-organisms.\n",
    "\n",
    "\n",
    "## Can we uncover the dynamics of activity and interparticle attraction?\n",
    "\n",
    "<br><br>\n",
    "<br><br>\n",
    "\n",
    "<footer>[1] Arvind Gopinath, Michael F. Hagan, M. Cristina Marchetti, and Aparna Baskaran\n",
    "Phys. Rev. E 85, 061903 – Published 1 June 2012 </footer>"
   ]
  },
  {
   "cell_type": "markdown",
   "metadata": {
    "slideshow": {
     "slide_type": "slide"
    }
   },
   "source": [
    "## Reentrant phase behavior in active colloids with attraction\n",
    "#### Redner, Gabriel S., Aparna Baskaran, and Michael F. Hagan. \"Reentrant phase behavior in active colloids with attraction.\" Physical Review E 88.1 (2013): 012305.\n",
    "\n",
    "[DOI: 10.1103/PhysRevE.88.012305](https://journals.aps.org/pre/pdf/10.1103/PhysRevE.88.012305); [Supplemental Information](https://journals.aps.org/pre/supplemental/10.1103/PhysRevE.88.012305)\n",
    "\n",
    "$$ U = \\frac{\\epsilon}{k_{B}T} \\hspace{0.5cm};\\hspace{0.5cm}   P_{e} = v_{P} \\frac{\\tau}{\\sigma} $$\n",
    "\n",
    "\n",
    "<img src=\"images/Fig1.pdf\" height=\"370\" width=\"370\" align=\"left\" >\n",
    "\n",
    "\n",
    "<img src=\"images/Fig4.pdf\" height=\"370\" width=\"370\" align=\"right\" >\n",
    "\n"
   ]
  },
  {
   "cell_type": "markdown",
   "metadata": {
    "heading_collapsed": true,
    "slideshow": {
     "slide_type": "slide"
    }
   },
   "source": [
    "## Stochastic Orientation of particles due to $\\hat{\\boldsymbol{v}}_{i} = (cos\\theta_{i},sin\\theta_{i})$\n",
    "\n",
    "##### • High density phase $\\rightarrow$ Low density phase: Modeled by an escape cone on the interface\n",
    "\n",
    "Uncomment to see movie\n",
    "<!--\n",
    "![](images/Movies/interface_low.mov)\n",
    "-->"
   ]
  },
  {
   "cell_type": "markdown",
   "metadata": {
    "slideshow": {
     "slide_type": "slide"
    }
   },
   "source": [
    "## Interparticle attraction strength, U = 4 \n",
    "## Propulsion Strength, $P_{e}$ = 4\n",
    "\n",
    "##### Attractive interactions dominate and phase separation between gel and gas phase. As $t \\rightarrow \\infty$, gel $\\rightarrow$ single cluster.\n",
    "Uncomment to see movie\n",
    "<!--\n",
    "![](images/Movies/ljas-0.40-004-004.mov)\n",
    "-->"
   ]
  },
  {
   "cell_type": "markdown",
   "metadata": {
    "slideshow": {
     "slide_type": "slide"
    }
   },
   "source": [
    "## Interparticle attraction strength, U = 4 \n",
    "## Propulsion Strength, $P_{e}$ = 20\n",
    "\n",
    "##### Activity is increased, which results in a single-phase (homogenous liquid).   \n",
    "\n",
    "Uncomment to see movie\n",
    "<!--\n",
    "![](images/Movies/ljas-0.40-020-004.mov)\n",
    "-->"
   ]
  },
  {
   "cell_type": "markdown",
   "metadata": {
    "slideshow": {
     "slide_type": "slide"
    }
   },
   "source": [
    "## Interparticle attraction strength, U = 4 \n",
    "## Propulsion Strength, $P_{e}$ = 100\n",
    "\n",
    "##### Activity is increased further, which results in self-trapping that drives the system to phase separate again. Many initial clusters $\\rightarrow$ single cluster. \n",
    "\n",
    "Uncomment to see movie\n",
    "<!--\n",
    "![](images/Movies/ljas-0.40-100-004.mov)\n",
    "-->"
   ]
  },
  {
   "cell_type": "markdown",
   "metadata": {
    "slideshow": {
     "slide_type": "slide"
    }
   },
   "source": [
    "## Brownian Motion \n",
    "##### Coupled Overdamped Langevin Equations\n",
    "\n",
    "Note that the equations of motion are nondimensionalized using time as $\\tau = \\sigma^{2}/D$, where $\\sigma$ and $k_{B}T$ as basic units of length and energy.\n",
    "\n",
    "$$\\dot{r}_{i}=\\text { Force }+\\text { propulsion velocity w/ stochastic orientation}+\\text { stochastic viscosity (Gaussian white noise) }$$\n",
    "\n",
    "$$\\dot{\\boldsymbol{r}}_{i}=\\frac{1}{\\gamma} \\boldsymbol{F}_{\\mathrm{LJ}}\\left(\\left\\{\\boldsymbol{r}_{i}\\right\\}\\right)+v_{\\mathrm{p}} \\hat{\\boldsymbol{v}}_{i}+\\sqrt{2 D} \\boldsymbol{\\eta}_{i}^{\\mathrm{T}},\\label{eq:1}\\tag{1}$$\n",
    "\n",
    "where $\\eta$ is Gaussian white noise with $\\left\\langle\\eta_{i}(t)\\right\\rangle= 0$ and $\\left\\langle\\eta_{i}(t)\\eta_{j}\\left(t^{\\prime}\\right)\\right\\rangle=\\delta_{i j} \\delta\\left(t-t^{\\prime}\\right)$.  The magnitude of self-propulsion velocity is $v_{\\mathrm{p}}$ and the direction of propulsion depends on the particles orientation, $\\hat{v}_{i}=\\left(\\cos \\theta_{i}, \\sin \\theta_{i}\\right)$. \n",
    "\n",
    "The angles associated with $\\hat{v}_{i}$ are given by\n",
    "\n",
    "$$\\hat{\\theta}=\\sqrt{2 \\mathcal{D}_{r}} \\eta_{i}^{R},$$\n",
    "\n",
    "where the the rotational diffusion constant, $D_{r}$ goes to $D_{r} = 3D/\\sigma^{2}$ at a low Reynolds number.\n",
    "\n",
    "Lastly, the last term in equation $\\ref{eq:1}$ directly relates to the stokes drag coefficient: \n",
    "\n",
    "\n",
    "$$D=\\frac{k_{\\mathrm{B}} T}{\\gamma}$$\n",
    "\n",
    "\n",
    "\n",
    "\n"
   ]
  },
  {
   "cell_type": "markdown",
   "metadata": {
    "slideshow": {
     "slide_type": "slide"
    }
   },
   "source": [
    "## Goals:\n",
    "\n",
    "##### I. Write molecular simulation code from scratch. \n",
    "\n",
    "##### II. Reproduce the MD simulations from the following paper by altering the existing MD code.\n",
    "\n",
    "##### III. ??? "
   ]
  },
  {
   "cell_type": "markdown",
   "metadata": {
    "slideshow": {
     "slide_type": "slide"
    }
   },
   "source": [
    "### Table 1. Reduced Lennard-Jones Units:\n",
    "\n",
    "| Quantity  | Symbol  |  Relation to SI  | Type  |\n",
    "| :--:  | :--: | :--: | :--: |  \n",
    "| Mass               | $m*$        | $m* = m M^{-1}$                                  | float    |\n",
    "| Positions          | $r*$        | $x*=x\\sigma^{-1}$                                | np.array |\n",
    "| Velocities         | $v*$        | $$v* = v M^{1/2}\\sigma^{-1/2}$$                  | np.array |\n",
    "| Energy             | $E*$        | $E* = E \\epsilon^{-1}$                           | float    |\n",
    "| Temperature        | $T*$        | $T* = T k_{B}\\epsilon^{-1}$                      | float    |\n",
    "| Forces             | $F*$        | $F* = F \\sigma \\epsilon^{-1}$                    | np.array |\n",
    "| time               | $t*$        | $t* = t\\sigma^{-1} (\\epsilon M^{-1})^1/2$        | float    |\n",
    "| Pressure           | $P*$        | $P* = P sigma^{dim=2} \\epsilon^{-1}$             | float    |\n",
    "| Density            | $\\rho*$     | $\\rho* = \\rho sigma^{dim=2}$                     | float    |\n",
    "| Dynamic viscosity  | $\\eta*$     | $\\eta* = N sigma^{3} V^{-1}$                     |  float   |\n",
    "\n"
   ]
  },
  {
   "cell_type": "markdown",
   "metadata": {
    "slideshow": {
     "slide_type": "slide"
    }
   },
   "source": [
    "# 2-D Molecular Dynamics Simulation w/ LJ Potential\n",
    "\n",
    "## 1. Initialize positions & velocities, setting t=0.\n",
    "\n",
    "$$r_{x,y} = \\left( \\begin{array}{c}{r_{x1} \\hspace{0.25cm} r_{y1}} \\\\ {r_{x2} \\hspace{0.25cm} r_{y2}} \\\\ { \\vdots}\\hspace{0.25cm}{ \\vdots} \\\\ {r_{\\mathrm{xN}} \\hspace{0.25cm} r_{\\mathrm{yN}}}\\end{array}\\right) \\hspace{0.35cm};\\hspace{0.35cm} v_{x,y} = \\left( \\begin{array}{c}{v_{x1} \\hspace{0.25cm} v_{y1}} \\\\ {v_{x2} \\hspace{0.25cm} v_{y2}} \\\\ { \\vdots}\\hspace{0.25cm}{ \\vdots} \\\\ {v_{\\mathrm{xN}} \\hspace{0.25cm} v_{\\mathrm{yN}}}\\end{array}\\right) $$\n",
    "\n",
    "<!--\n",
    "$$r_{x,y} = \\left( \\begin{array}{c}{r_{x1} \\hspace{0.25cm} r_{y1}} \\\\ {r_{x2} \\hspace{0.25cm} r_{y2}} \\\\ { \\vdots}\\hspace{0.25cm}{ \\vdots} \\\\ {r_{\\mathrm{xN}} \\hspace{0.25cm} r_{\\mathrm{yN}}}\\end{array}\\right) $$\n",
    "-->\n",
    "<!--\n",
    "$$v_{x,y} = \\left( \\begin{array}{c}{v_{x1} \\hspace{0.25cm} v_{y1}} \\\\ {v_{x2} \\hspace{0.25cm} v_{y2}} \\\\ { \\vdots}\\hspace{0.25cm}{ \\vdots} \\\\ {v_{\\mathrm{xN}} \\hspace{0.25cm} v_{\\mathrm{yN}}}\\end{array}\\right) $$\n",
    "-->\n",
    "\n",
    "### Determine the kinetic energy\n",
    "\n",
    "$$E_{\\mathrm{kinetic}} = \\left\\langle\\frac{1}{2} m v^{2}\\right\\rangle$$\n",
    "\n",
    "\n",
    "### Measure the temperature\n",
    "\n",
    "$$T = \\frac{1}{(2 N k_{B})}\\sum_{i=1}^{N}{m {v_{i}}^{2}}$$\n",
    "\n",
    "# Berendsen Thermostat\n",
    "\n",
    "$$v_{x,y} = v_{x,y}*\\left[1+\\frac{\\nu \\Delta t}{\\tau_{T}}\\left\\{\\frac{T_{0}}{T\\left(t-\\frac{1}{2} \\Delta t\\right)}-1\\right\\}\\right]^{1 / 2}$$\n",
    "\n",
    "### Scale the velocities by the desired temperature\n",
    "\n",
    "$$v(t) = v(t)\\sqrt{\\frac{SetTemp}{T}}$$"
   ]
  },
  {
   "cell_type": "markdown",
   "metadata": {
    "slideshow": {
     "slide_type": "slide"
    }
   },
   "source": [
    "## 2. Compute the forces on all particles \n",
    "\n",
    "#### Loop over all pairs and compute the forces\n",
    "\n",
    "$$ r_{ij} = \\sum_{i=1}^{N}\\sum_{j=1\\\\j\\neq i}^{N} |r_{i} - r_{j}|$$\n",
    "\n",
    "#####  Pair potential (Lennard-Jones) \n",
    "\n",
    "$$ U_{LJ}(r) = 4\\epsilon[(\\frac{\\sigma}{r})^{12} - (\\frac{\\sigma}{r})^{6}],$$\n",
    "\n",
    "##### Force in the x and y directions\n",
    "\n",
    "$$F_{x} = - (\\frac{dU(r)}{dr}) = - (\\frac{x}{r})(\\frac{dU(r)}{dr}); F_{y} = - (\\frac{dU(r)}{dr}) = - (\\frac{y}{r})(\\frac{dU(r)}{dr})$$\n",
    "\n",
    "\n",
    "<img src=\"images/lennard_jones.png\" height=\"450\" width=\"450\" align=\"left\" >\n",
    "<br><br><br>\n",
    "<footer> Fu, S-P., et al. \"Lennard-Jones type pair-potential method for coarse-grained lipid bilayer membrane simulations in LAMMPS.\" Computer Physics Communications 210 (2017): 193-203. </footer>"
   ]
  },
  {
   "cell_type": "markdown",
   "metadata": {
    "slideshow": {
     "slide_type": "slide"
    }
   },
   "source": [
    "\n",
    "## 3. Integrate Newton's laws  \n",
    "\n",
    "##### Velocity Verlet Algorithm:\n",
    "\n",
    "$$r(t+\\Delta t)=r(t)+v(t) \\Delta t+\\frac{F_{LJ}(t)}{2 m} \\Delta t^{2}$$\n",
    "\n",
    "$$r_{i}(t+\\Delta t) = r_{i}(t) + v_{i}(t) + (a(t)/2) \\Delta t^2 $$\n",
    "\n",
    "$$a(t+\\Delta t) = F_{LJ}(r(t+\\Delta t))/m$$\n",
    "\n",
    "$$v(t+\\Delta t) = v(t) + 0.5 (a(t+\\Delta t)+a(t))\\Delta t $$\n",
    "\n",
    "\n",
    "##### Apply periodic boundary conditions (PBC)\n",
    "\n",
    "##### Update $t$ to $t+\\Delta t$\n"
   ]
  },
  {
   "cell_type": "code",
   "execution_count": 7,
   "metadata": {
    "slideshow": {
     "slide_type": "slide"
    }
   },
   "outputs": [
    {
     "name": "stdout",
     "output_type": "stream",
     "text": [
      "# of Particles = 18\n",
      "BOX DIMENSIONS = (3.9,5.175)\n",
      "Lattice Spacing in x,y = 0.7,1.75\n",
      "NUMBER OF PARTICLES = 18\n",
      "\n",
      "Step #\tTime,t \t\tTemperature,T \t\tPair Potential, U\tTotal Energy, E\t\tPressure, P\n",
      "0\t0.0000e+00\t2.3293e+00\t\t-2.6127e+02\t\t-2.1935e+02\t\t1.7261e+01\t\n",
      "100\t5.0000e-01\t1.6461e+00\t\t-2.6487e+01\t\t3.1434e+00\t\t6.6572e+00\t\n",
      "200\t1.0000e+00\t1.4135e+00\t\t-2.7812e+01\t\t-2.3697e+00\t\t5.5473e+00\t\n",
      "300\t1.5000e+00\t1.4940e+00\t\t-2.8858e+01\t\t-1.9652e+00\t\t5.9910e+00\t\n",
      "400\t2.0000e+00\t1.4891e+00\t\t-2.8668e+01\t\t-1.8651e+00\t\t5.9415e+00\t\n",
      "500\t2.5000e+00\t1.6089e+00\t\t-2.8244e+01\t\t7.1577e-01\t\t6.4969e+00\t\n",
      "600\t3.0000e+00\t1.8153e+00\t\t-2.8245e+01\t\t4.4313e+00\t\t7.4903e+00\t\n",
      "700\t3.5000e+00\t1.5370e+00\t\t-2.8695e+01\t\t-1.0297e+00\t\t6.1754e+00\t\n",
      "800\t4.0000e+00\t1.4835e+00\t\t-2.8929e+01\t\t-2.2262e+00\t\t5.9221e+00\t\n",
      "900\t4.5000e+00\t1.8027e+00\t\t-2.9194e+01\t\t3.2544e+00\t\t7.4737e+00\t\n",
      "\n",
      "Writing Trajectory: traj_0.lammps\n",
      "\n"
     ]
    }
   ],
   "source": [
    "import MD\n",
    "#################  MAIN  #####################################################\n",
    "########## Initialize Simulation #############################################\n",
    "NSTEPS = 1000\n",
    "row_col = [6,3] #row_col = [12,4] \n",
    "lattice_spacing=[0.7,1.75]  # if hex\n",
    "#lattice_spacing=[1.42,1.42]   # if bcc\n",
    "sim = MD.Simulation(nSteps=NSTEPS, row_col=row_col, lattice=\"hex\",  #\"bcc\"\"hex\",\n",
    "        lattice_spacing=lattice_spacing,\n",
    "        print_frequency=100, dt=0.005, v_initial=2.5, temp=1.65,\n",
    "        write_frequency=NSTEPS, store_frequency=10,traj_format=\"lammps\")#\"lammps\")\n",
    "########## Integrate Equations of Motion ######################################\n",
    "# Verlet Algorithm\n",
    "sim.integrate()"
   ]
  },
  {
   "cell_type": "markdown",
   "metadata": {
    "slideshow": {
     "slide_type": "slide"
    }
   },
   "source": [
    "\n",
    "## 5000 steps, step size of 5, 441 particles\n",
    "<!--![](images/traj_1000_steps_441_particles.mpg)-->\n",
    "<!--![](images/traj_5000_steps_441_particles.mpg)-->\n",
    "\n",
    "![](images/traj_5000_steps_441_particles_3.mpg)"
   ]
  },
  {
   "cell_type": "markdown",
   "metadata": {
    "slideshow": {
     "slide_type": "slide"
    }
   },
   "source": [
    "## Conclusion:\n",
    "\n",
    "#### Simulation code written from scratch using only vectors\n",
    "\n",
    "##### Qualitatively: matches with Lammps (interactions, 6 nearest neighbors, pair potential)\n",
    "\n",
    "##### Quantitatively: matches with Lammps **except** positive total energy at high temperatures\n",
    "\n",
    "#### In order to obtain a negative total energy:\n",
    "##### Decrease the temperature to lower the potential energy (less likely to fluctuate position and more likely to fall into potential well)\n",
    "   \n",
    "   \n",
    "## Prospective Goals:\n",
    "\n",
    "##### Figure out why the total energy is positive.\n",
    "\n",
    "##### Write up program in C++\n",
    "\n",
    "##### Extend the basic MD simulation module to contain Brownian dynamics to study active particles\n",
    "\n"
   ]
  }
 ],
 "metadata": {
  "celltoolbar": "Slideshow",
  "kernelspec": {
   "display_name": "Python 3",
   "language": "python",
   "name": "python3"
  },
  "language_info": {
   "codemirror_mode": {
    "name": "ipython",
    "version": 3
   },
   "file_extension": ".py",
   "mimetype": "text/x-python",
   "name": "python",
   "nbconvert_exporter": "python",
   "pygments_lexer": "ipython3",
   "version": "3.6.8"
  }
 },
 "nbformat": 4,
 "nbformat_minor": 2
}
